{
  "nbformat": 4,
  "nbformat_minor": 0,
  "metadata": {
    "colab": {
      "name": "Comparing Rain and Snowfall Between 2017-2019",
      "provenance": [],
      "authorship_tag": "ABX9TyNbB3C84eBxD6StXWgAJLYn",
      "include_colab_link": true
    },
    "kernelspec": {
      "name": "python3",
      "display_name": "Python 3"
    }
  },
  "cells": [
    {
      "cell_type": "markdown",
      "metadata": {
        "id": "view-in-github",
        "colab_type": "text"
      },
      "source": [
        "<a href=\"https://colab.research.google.com/github/mmg5654/SRA268-Spring2020/blob/master/Comparing_Rain_and_Snowfall_Between_2017_2019.ipynb\" target=\"_parent\"><img src=\"https://colab.research.google.com/assets/colab-badge.svg\" alt=\"Open In Colab\"/></a>"
      ]
    },
    {
      "cell_type": "markdown",
      "metadata": {
        "id": "p_GgAZVQdJa9",
        "colab_type": "text"
      },
      "source": [
        "# Comparing Rain and Snowfall Between 2017-2019"
      ]
    },
    {
      "cell_type": "markdown",
      "metadata": {
        "id": "7DGnLgMFdUe4",
        "colab_type": "text"
      },
      "source": [
        "# Outline"
      ]
    },
    {
      "cell_type": "markdown",
      "metadata": {
        "id": "njWPb7PPdbp_",
        "colab_type": "text"
      },
      "source": [
        "This project is meant to compare the frequency of rainfall with snowfall between the dates of January 1, 2017 and October 9, 2019. The subset of the data that we used was the highest recorded amount of rainfall/snowfall of each month for the year of 2017. This will be represented on a line graph (as seen in Figure 1), with snow being represented by a dashed line, and rain being shown as a solid line."
      ]
    },
    {
      "cell_type": "markdown",
      "metadata": {
        "id": "NIi0o04RfpoN",
        "colab_type": "text"
      },
      "source": [
        "# Figure 1\n"
      ]
    },
    {
      "cell_type": "markdown",
      "metadata": {
        "id": "DTtgn8UyoSdO",
        "colab_type": "text"
      },
      "source": [
        "![Figure 1](https://raw.githubusercontent.com/mmg5654/SRA268-Spring2020/master/Rain%20v.%20Snow/Rain%20v%20Snow%202017.jpg)"
      ]
    },
    {
      "cell_type": "markdown",
      "metadata": {
        "id": "NNrmMn4hqYl3",
        "colab_type": "text"
      },
      "source": [
        "#Conclusion"
      ]
    },
    {
      "cell_type": "markdown",
      "metadata": {
        "id": "KFVI0g0pqdb8",
        "colab_type": "text"
      },
      "source": [
        "This figure represents the highest recorded snow and rainfall for each month of 2017. The Rainfall is represented by a solid line and snowfall is represented by a dotted line. The figure shows the highest recorded values for snow varied more than rain. On the other hand rain was more consistent throughout the year, occuring every month."
      ]
    }
  ]
}