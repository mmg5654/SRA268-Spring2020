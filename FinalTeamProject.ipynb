{
  "nbformat": 4,
  "nbformat_minor": 0,
  "metadata": {
    "colab": {
      "name": "FinalTeamProject.ipynb",
      "provenance": [],
      "collapsed_sections": [],
      "include_colab_link": true
    },
    "kernelspec": {
      "name": "python3",
      "display_name": "Python 3"
    }
  },
  "cells": [
    {
      "cell_type": "markdown",
      "metadata": {
        "id": "view-in-github",
        "colab_type": "text"
      },
      "source": [
        "<a href=\"https://colab.research.google.com/github/mmg5654/SRA268-Spring2020/blob/master/FinalTeamProject.ipynb\" target=\"_parent\"><img src=\"https://colab.research.google.com/assets/colab-badge.svg\" alt=\"Open In Colab\"/></a>"
      ]
    },
    {
      "cell_type": "markdown",
      "metadata": {
        "id": "Kw5PZBtl0Ob6",
        "colab_type": "text"
      },
      "source": [
        "# Comparative Analysis of Obesity and Heart Disease Prevalence by State, 2018"
      ]
    },
    {
      "cell_type": "markdown",
      "metadata": {
        "id": "iXWAmSVB0Rno",
        "colab_type": "text"
      },
      "source": [
        "Contributors:\n",
        "\n",
        "\n",
        "*   Malick Guisse\n",
        "*   Julianna Murphy\n",
        "*   Nicholas Stuart\n",
        "\n",
        "\n",
        "\n"
      ]
    },
    {
      "cell_type": "markdown",
      "metadata": {
        "id": "WpaW-i5l0ZHn",
        "colab_type": "text"
      },
      "source": [
        "## Background"
      ]
    },
    {
      "cell_type": "markdown",
      "metadata": {
        "id": "E4VKsOvP0eev",
        "colab_type": "text"
      },
      "source": [
        "Obesity has become a national epidemic in the United States.  Recently, Americans have chosen more desk jobs over physical labor.  The fast food industry has provided convenient and inexpensive choices, and many Americans with busy schedules and/or low income pick these options.  Healthy food choices can be extremely pricy and out of reach for citizens as well.  All of these factors, and more, have led to high rates of obesity across the nation.  \n",
        "\n",
        "Obesity poses a huge health crisis; it can lead to a massive array of other health issues, including heart diseases.  Heart disease actually describes a variety of cardiovascular illnesses, such as blood vessel diseases coronary artery disease.  These chronic problems greatly increase the risk of heart attacks.\n",
        "\n",
        "Obesity and heart diseases are not distributed evenly across the United States.  The rates are high across the board in general (which is why these problems are considered epidemics), but there is a fair level of variation among states.\n",
        "\n",
        "Since obesity and heart diseases have been positively correlated in the past, it would be fair to hypothesize that states suffering from higher obesity rates also experience larger rates of heart disease.  Using data collected from the United Health Foundation (UHF), our team seeks to analytically compare the prevalence of obesity and heart disease among individual states.  \n",
        "\n",
        "Our findings are based upon separate reports produced by the UHF and compiled on their website \"America's Health Rankings\".  The data used is current and relevant, as it was collected in 2017 and included in 2018 reporting."
      ]
    },
    {
      "cell_type": "markdown",
      "metadata": {
        "id": "7d8vfcGufV0_",
        "colab_type": "text"
      },
      "source": [
        "### Goal"
      ]
    },
    {
      "cell_type": "markdown",
      "metadata": {
        "id": "e1jKSGTjfY2H",
        "colab_type": "text"
      },
      "source": [
        "Our team seeks to test the hypothesis that states with larger percentages of obesity experience higher rates of heart disease.  We will create data visualizations to display the results of these reports and to highlight significant trends in the data."
      ]
    },
    {
      "cell_type": "markdown",
      "metadata": {
        "id": "GOxy_TvCfi54",
        "colab_type": "text"
      },
      "source": [
        "### Assumptions"
      ]
    },
    {
      "cell_type": "markdown",
      "metadata": {
        "id": "cw1v_1MMfnAR",
        "colab_type": "text"
      },
      "source": [
        "\n",
        "* States with higher population have larger rates of obesity\n",
        "* States with higher cost of living will have lower rates of obesity and heart disease\n",
        "* The lower the poverty line in a state the higher the obesity rate will be\n",
        "* States with poor education systems have higher rates of obesity\n",
        "* Individuals who are above 60 are more likely to have obesity and heart disease\n",
        "* Males have higher chance of heart disease\n",
        "* Females have a higher chance of obesity\n",
        "* Individuals with lower incomes are more likely to suffer from obesity\n",
        "* Minority races are more likely to suffer from obesity and heart disease\n",
        "* More rural states will have higher levels of obesity and heart disease\n"
      ]
    },
    {
      "cell_type": "markdown",
      "metadata": {
        "id": "jKGILpu7gWr6",
        "colab_type": "text"
      },
      "source": [
        "### Data Sources"
      ]
    },
    {
      "cell_type": "markdown",
      "metadata": {
        "id": "uwCao7AtgbNn",
        "colab_type": "text"
      },
      "source": [
        "1) U.S. Obesity Rates, 2018 - https://www.americashealthrankings.org/explore/annual/measure/Obesity/state/ALL?edition-year=2018\n",
        "\n",
        "2) U.S. Heart Disease Rates, 2018 - https://www.americashealthrankings.org/explore/annual/measure/CHD/state/ALL?edition-year=2018\n",
        "\n",
        "Both of these data sources were compiled by the United Health Foundation, and then they were listed on the UHF's website [America's Health Rankings](https://www.americashealthrankings.org/).\n",
        "\n",
        "We selected these sources for many reasons. The United Health Foundation is an extremely reliable and reputable source regarding health statistics in the United States.  Their research is thorough - the UHF derives its information from a wide variety of other sources. Furthermore, their website also contained datasets for both obesity and heart disease rates by state.  Their website is one of the first results for American health statistics, too, so locating the required information was not difficult.Finally, the website allows data to be downloaded directly into a Microsoft Excel file - our team appreciated this feature for its convenience.\n",
        "\n",
        "After downloading the data sets and merging them into one Excel file (two sheets), we uploaded the data into Tableau.  Tableau automtically joined both sheets, but this presented a huge problem. It returned thousands of duplicate records, and it was completely disorganized.  We knew that our data would be skewed drastically and that parsing through records would be challenging unless we ran a proper join.\n",
        "\n",
        "Our team opted to outer-join the two Excel sheets by the field \"State_Name\" (we set both fields equal to each other).  In doing so, we returned only one record per state that included the data for both obesity and heart disease, and our data was well-organized and correct."
      ]
    },
    {
      "cell_type": "markdown",
      "metadata": {
        "id": "kDgSdoQUgg2Z",
        "colab_type": "text"
      },
      "source": [
        "#### Sources"
      ]
    },
    {
      "cell_type": "markdown",
      "metadata": {
        "id": "dFzYIi0Agi2_",
        "colab_type": "text"
      },
      "source": [
        "1) [Obesity in the United States - UHF 2018 Reporting](https://www.americashealthrankings.org/explore/annual/measure/Obesity/state/ALL?edition-year=2018)\n",
        "\n",
        "2) [Heart Disease in the United States - UHF 2018 Reporting ](https://americashealthrankings.org/explore/annual/measure/CHD/state/ALL?edition-year=2018)"
      ]
    },
    {
      "cell_type": "markdown",
      "metadata": {
        "id": "qcFak2v7g3jt",
        "colab_type": "text"
      },
      "source": [
        "## Dashboard (5)"
      ]
    },
    {
      "cell_type": "code",
      "metadata": {
        "id": "knG79vNP0Q0u",
        "colab_type": "code",
        "outputId": "ae77fef3-58bb-4358-c634-e20c94a82e07",
        "colab": {
          "base_uri": "https://localhost:8080/",
          "height": 1000
        }
      },
      "source": [
        "import IPython\n",
        "IPython.display.HTML(\"<div class='tableauPlaceholder' id='viz1587955659400' style='position: relative'><noscript><a href='#'><img alt=' ' src='https:&#47;&#47;public.tableau.com&#47;static&#47;images&#47;Fi&#47;FinalProject_15879526515700&#47;Dashboard1&#47;1_rss.png' style='border: none' /></a></noscript><object class='tableauViz'  style='display:none;'><param name='host_url' value='https%3A%2F%2Fpublic.tableau.com%2F' /> <param name='embed_code_version' value='3' /> <param name='site_root' value='' /><param name='name' value='FinalProject_15879526515700&#47;Dashboard1' /><param name='tabs' value='no' /><param name='toolbar' value='yes' /><param name='static_image' value='https:&#47;&#47;public.tableau.com&#47;static&#47;images&#47;Fi&#47;FinalProject_15879526515700&#47;Dashboard1&#47;1.png' /> <param name='animate_transition' value='yes' /><param name='display_static_image' value='yes' /><param name='display_spinner' value='yes' /><param name='display_overlay' value='yes' /><param name='display_count' value='yes' /><param name='filter' value='publish=yes' /></object></div>                <script type='text/javascript'>                    var divElement = document.getElementById('viz1587955659400');                    var vizElement = divElement.getElementsByTagName('object')[0];                    if ( divElement.offsetWidth > 800 ) { vizElement.style.width='1700px';vizElement.style.height='1127px';} else if ( divElement.offsetWidth > 500 ) { vizElement.style.width='1700px';vizElement.style.height='1127px';} else { vizElement.style.width='100%';vizElement.style.height='727px';}                     var scriptElement = document.createElement('script');                    scriptElement.src = 'https://public.tableau.com/javascripts/api/viz_v1.js';                    vizElement.parentNode.insertBefore(scriptElement, vizElement);                </script>\")\n"
      ],
      "execution_count": 0,
      "outputs": [
        {
          "output_type": "execute_result",
          "data": {
            "text/html": [
              "<div class='tableauPlaceholder' id='viz1587955659400' style='position: relative'><noscript><a href='#'><img alt=' ' src='https:&#47;&#47;public.tableau.com&#47;static&#47;images&#47;Fi&#47;FinalProject_15879526515700&#47;Dashboard1&#47;1_rss.png' style='border: none' /></a></noscript><object class='tableauViz'  style='display:none;'><param name='host_url' value='https%3A%2F%2Fpublic.tableau.com%2F' /> <param name='embed_code_version' value='3' /> <param name='site_root' value='' /><param name='name' value='FinalProject_15879526515700&#47;Dashboard1' /><param name='tabs' value='no' /><param name='toolbar' value='yes' /><param name='static_image' value='https:&#47;&#47;public.tableau.com&#47;static&#47;images&#47;Fi&#47;FinalProject_15879526515700&#47;Dashboard1&#47;1.png' /> <param name='animate_transition' value='yes' /><param name='display_static_image' value='yes' /><param name='display_spinner' value='yes' /><param name='display_overlay' value='yes' /><param name='display_count' value='yes' /><param name='filter' value='publish=yes' /></object></div>                <script type='text/javascript'>                    var divElement = document.getElementById('viz1587955659400');                    var vizElement = divElement.getElementsByTagName('object')[0];                    if ( divElement.offsetWidth > 800 ) { vizElement.style.width='1700px';vizElement.style.height='1127px';} else if ( divElement.offsetWidth > 500 ) { vizElement.style.width='1700px';vizElement.style.height='1127px';} else { vizElement.style.width='100%';vizElement.style.height='727px';}                     var scriptElement = document.createElement('script');                    scriptElement.src = 'https://public.tableau.com/javascripts/api/viz_v1.js';                    vizElement.parentNode.insertBefore(scriptElement, vizElement);                </script>"
            ],
            "text/plain": [
              "<IPython.core.display.HTML object>"
            ]
          },
          "metadata": {
            "tags": []
          },
          "execution_count": 2
        }
      ]
    },
    {
      "cell_type": "markdown",
      "metadata": {
        "id": "SvWfnlDjnos1",
        "colab_type": "text"
      },
      "source": [
        "## Conclusion"
      ]
    },
    {
      "cell_type": "markdown",
      "metadata": {
        "id": "rfWefr2gnxOG",
        "colab_type": "text"
      },
      "source": [
        "Our team decided to include two visualizations that aptly describe our findings.  While these plots are similar in many ways, they tell vastly different stories.\n",
        "\n",
        "Analysis begins with the top chart, \"States' Obesity and HD Rates\".  It is a simple scatterplot that displays points by state when comparing obesity rates against heart disease rates.  The chart is minimalistic in nature - it has a white background, blue points, a simple title and axis labels, and clear axis numbering.\n",
        "\n",
        "With this chart, our team sought to display every state's obesity and heart disease percentages one at a time, and so we included a graph animation (added by setting the \"State Name\" field as a Page in Tableau.  The records are listed alphabetically by state name, and appear point-by-point on the chart.  \n",
        "\n",
        "Our team also included a tool (top-right) so the user can alter the animation as they please.  A user can, for example, jump to a particular state using the drop-down menu.  Moreover, the animation's speed can be changed, depending upon the user's analytical needs, and it can also be stopped and restarted.  Record history is turned on, so at the animation's end, all points are displayed.\n",
        "\n",
        "This graph provides a general overview detailing how the states stack up against one another.   This was not the main purpose of this project, but it works as an excellent supplement to our research.  A user can quickly identify results for a specific state's obesity and HD percentages.  They can also locate states where obesity and heart disease are most problematic (West Virginia ranks worst in both categories).  All in all, this visualization acts as a more holistic view of these national problems.\n",
        "\n",
        "The second chart, entitled \"HD Rate vs. Obesity Rate\", focuses on our case study's main goal and provides conclusions to our research hypothesis.  As with the first chart, it is a minimalistic graph plotting the rate of obesity against the rate of heart disease by state.  However, it is finely tuned and altered slightly in order to judge our hypothesis.\n",
        "\n",
        "Again, we hypothesized that higher obesity rates lead to higher heart disease rates.  As such, obesity was our independent variable while heart disease was dependent.  A trend line was added to glean additional statistical data (details can be highlighted by hovering over it with the mouse pointer), and our conclusions are as follows:\n",
        "\n",
        "1) The data trends upwards with a mild slope of m = .192.  That would imply that a positive correlation between the variables (i.e. that heart disease occurs more often when more people are obese).\n",
        "\n",
        "2) The p-value is less than .001.  In statistics, the null hypothesis states that there is no statistical significance between the two variables (i.e. that one variable does not cause a change in the other, or that any change was random or error).  A statistical rule states that a p-value of .05 or less indicates strong evidence against the null hypothesis - in other words, a small p-value indicates that there is statistical significance between the variables.  The generated p-value in this case is much less than .05, so we can confidently state that our results are statistically significant.\n",
        "\n",
        "3) The r-squared value is .5268.  In statistics, r-squared values explain how much variance in the dependent variable is caused by the independent variable.  They range from 0 to 1 (1 meaning that all variance is caused by the model).  In this case, 52.68% of change in heart disease rates is caused by change in obesity rates.  Contextually, heart disease rates can be affected by a multitude of other factors (including genetic, financial, and other demographic variables).  We have deemed it significant that a single factor (obesity) contributes more than half of all variance to heart disease rates.  \n",
        "\n",
        "Given the above analysis, it is safe to conclude the following - states with higher obesity rates tend to have higher rates of heart disease.  An even more effective model could include other variables such as income and genetic predisposition (among others), but as it stands, it appears that our hypothesis is generally true. \n"
      ]
    }
  ]
}